{
 "cells": [
  {
   "cell_type": "code",
   "execution_count": 3,
   "id": "4cef8334",
   "metadata": {},
   "outputs": [
    {
     "name": "stdout",
     "output_type": "stream",
     "text": [
      "Dash is running on http://127.0.0.1:8050/\n",
      "\n",
      " * Serving Flask app \"__main__\" (lazy loading)\n",
      " * Environment: production\n",
      "   WARNING: This is a development server. Do not use it in a production deployment.\n",
      "   Use a production WSGI server instead.\n",
      " * Debug mode: off\n"
     ]
    },
    {
     "name": "stderr",
     "output_type": "stream",
     "text": [
      " * Running on http://127.0.0.1:8050/ (Press CTRL+C to quit)\n",
      "127.0.0.1 - - [18/Oct/2021 10:22:04] \"\u001b[37mGET / HTTP/1.1\u001b[0m\" 200 -\n",
      "127.0.0.1 - - [18/Oct/2021 10:22:04] \"\u001b[37mGET /_dash-layout HTTP/1.1\u001b[0m\" 200 -\n",
      "127.0.0.1 - - [18/Oct/2021 10:22:04] \"\u001b[37mGET /_dash-dependencies HTTP/1.1\u001b[0m\" 200 -\n",
      "127.0.0.1 - - [18/Oct/2021 10:22:04] \"\u001b[37mGET /_dash-component-suites/dash/dcc/async-dropdown.js HTTP/1.1\u001b[0m\" 200 -\n",
      "127.0.0.1 - - [18/Oct/2021 10:22:04] \"\u001b[37mGET /_dash-component-suites/dash/dcc/async-graph.js HTTP/1.1\u001b[0m\" 200 -\n",
      "127.0.0.1 - - [18/Oct/2021 10:22:04] \"\u001b[37mGET /_dash-component-suites/dash/dcc/async-plotlyjs.js HTTP/1.1\u001b[0m\" 200 -\n",
      "127.0.0.1 - - [18/Oct/2021 10:22:04] \"\u001b[37mPOST /_dash-update-component HTTP/1.1\u001b[0m\" 200 -\n"
     ]
    },
    {
     "name": "stdout",
     "output_type": "stream",
     "text": [
      "GOOG\n"
     ]
    }
   ],
   "source": [
    "# IMPORTATIONS\n",
    "import dash\n",
    "from dash import html\n",
    "from dash import dcc\n",
    "import plotly.graph_objects as go\n",
    "import plotly.express as px\n",
    "from dash.dependencies import Input, Output  \n",
    "\n",
    "  #INITIALIZES DASH APP\n",
    "df = px.data.stocks() #READS STOCK PRICE EXAMPLE DATASET\n",
    "\n",
    "# ----FUNCTION FOR CREATING LINE CHART SHOWING GOOGLE STOCK PRICES OVER TIME----\n",
    "def stock_prices(): \n",
    "    fig = go.Figure([go.Scatter(x = df['date'], y = df['GOOG'],\\\n",
    "                     line = dict(color = 'firebrick', width = 4), name = 'Google')\n",
    "                     ])\n",
    "    fig.update_layout(title = 'Prices over time',\n",
    "                      xaxis_title = 'Dates',\n",
    "                      yaxis_title = 'Prices'\n",
    "                      )\n",
    "    return fig  \n",
    "\n",
    "# ----SET LAYOUT----\n",
    "# uses html Div component, which is a kind of wrapper within which the elements(heading, graph) of \n",
    "# the layout will be created. The Div component contains arguments such as id (a unique identifier \n",
    "# of the element), style (for setting the width, height, color etc) and children (equal to square \n",
    "# bracket within which elements of the layout are initialised).\n",
    "\n",
    "# defines H1 function, dropdown menu, and graph\n",
    "app.layout = html.Div(id = 'parent', children = [\n",
    "    html.H1(id = 'H1',\n",
    "            children = 'Styling using html components',\n",
    "            style = {'textAlign':'center',\n",
    "                     'marginTop':40,'marginBottom':40}),\n",
    "    dcc.Dropdown( id = 'dropdown',\n",
    "                 options = [\n",
    "                     {'label':'Google', 'value':'GOOG' },\n",
    "                     {'label': 'Apple', 'value':'AAPL'},\n",
    "                     {'label': 'Amazon', 'value':'AMZN'},\n",
    "                 ],\n",
    "                 value = 'GOOG'\n",
    "                ),\n",
    "    dcc.Graph(id = 'line_plot', figure = stock_prices())    \n",
    "    ]\n",
    "                     )\n",
    "# ----DEFINES CALLBACK----\n",
    "# A callback is initialised using @app.callback(), which is followed by a function definition\n",
    "# Ouput says which property of what component in the layout is altered\n",
    "# Input says which property of what component is used as the trigger and basis of the alteration\n",
    "# defines function that alters propery of output component based on property of input component\n",
    "@app.callback(Output(component_id='line_plot', component_property= 'figure'),\n",
    "              [Input(component_id='dropdown', component_property= 'value')])\n",
    "\n",
    "# ----DEFINES function for callback----\n",
    "def graph_update(dropdown_value):\n",
    "    print(dropdown_value)\n",
    "    fig = go.Figure([go.Scatter(x = df['date'], y = df['{}'.format(dropdown_value)],\\\n",
    "                     line = dict(color = 'firebrick', width = 4))\n",
    "                     ])\n",
    "    \n",
    "    fig.update_layout(title = 'Stock prices over time',\n",
    "                      xaxis_title = 'Dates',\n",
    "                      yaxis_title = 'Prices'\n",
    "                      )\n",
    "    return fig  \n",
    "\n",
    "# RUN WEB SERVER\n",
    "if __name__ == '__main__': \n",
    "    app.run_server()"
   ]
  },
  {
   "cell_type": "code",
   "execution_count": null,
   "id": "ffa2c6da",
   "metadata": {},
   "outputs": [],
   "source": [
    "\n",
    "# ----------OLD CODE BELOW THIS LINE----------\n"
   ]
  },
  {
   "cell_type": "code",
   "execution_count": null,
   "id": "57fcf1d2",
   "metadata": {},
   "outputs": [],
   "source": [
    "# IMPLEMENTS DROPDOWN\n",
    "\n",
    "# IMPORTS DEPENDENCIES\n",
    "from dash.dependencies import Input, Output  \n",
    "\n",
    "# A callback is initialised using @app.callback(), which is followed by a function definition\n",
    "# Ouput says which property of what component in the layout is altered\n",
    "# Input says which property of what component is used as the trigger and basis of the alteration\n",
    "# defines function that alters propery of output component based on property of input component\n",
    "@app.callback(Output(component_id='line_plot', component_property= 'figure'),\n",
    "              [Input(component_id='dropdown', component_property= 'value')])\n",
    "def graph_update(dropdown_value):\n",
    "    print(dropdown_value)\n",
    "    fig = go.Figure([go.Scatter(x = df['date'], y = df['{}'.format(dropdown_value)],\\\n",
    "                     line = dict(color = 'firebrick', width = 4))\n",
    "                     ])\n",
    "    \n",
    "    fig.update_layout(title = 'Stock prices over time',\n",
    "                      xaxis_title = 'Dates',\n",
    "                      yaxis_title = 'Prices'\n",
    "                      )\n",
    "    return fig  "
   ]
  },
  {
   "cell_type": "code",
   "execution_count": null,
   "id": "4069c6c6",
   "metadata": {},
   "outputs": [],
   "source": [
    "# RUN WEB SERVER LIKE IN FLASK\n",
    "if __name__ == '__main__': \n",
    "    app.run_server()"
   ]
  },
  {
   "cell_type": "code",
   "execution_count": null,
   "id": "9b9b035c",
   "metadata": {},
   "outputs": [],
   "source": [
    "# CREATES DROPDOWN MENU TO VIEW SPECIFIC STOCKS\n",
    "dcc.Dropdown( id = 'dropdown',\n",
    "             options = [\n",
    "                 {'label':'Google', 'value':'GOOG' },\n",
    "                 {'label': 'Apple', 'value':'AAPL'},\n",
    "                 {'label': 'Amazon', 'value':'AMZN'},\n",
    "             ],\n",
    "             value = 'GOOG'\n",
    "            )"
   ]
  },
  {
   "cell_type": "code",
   "execution_count": null,
   "id": "bc464955",
   "metadata": {},
   "outputs": [],
   "source": [
    "# LAYOUTS \n",
    "# Layout describes the look and feel of the app, it defines the elements such as graphs, dropdowns \n",
    "# etc and the placement, size, color etc of these elements. Dash contains Dash HTML components using \n",
    "# which we can create and style HTML content such as headings, paragraph, images etc using python. \n",
    "# Elements such as graphs, dropdowns, sliders are created using Dash Core components.\n",
    "\n",
    "# CALLBACKS\n",
    "# Callbacks are used to bring interactivity to the dash applications. These are the functions that \n",
    "# can define the activity that would happen e.g. on clicking a button or a dropdown.\n",
    "\n",
    "# INSTALLATION\n",
    "# ! pip install dash   \n",
    "# ! pip install dash-html-components                                         \n",
    "# ! pip install dash-core-components                                     \n",
    "# ! pip install plotly"
   ]
  }
 ],
 "metadata": {
  "kernelspec": {
   "display_name": "Python 3",
   "language": "python",
   "name": "python3"
  },
  "language_info": {
   "codemirror_mode": {
    "name": "ipython",
    "version": 3
   },
   "file_extension": ".py",
   "mimetype": "text/x-python",
   "name": "python",
   "nbconvert_exporter": "python",
   "pygments_lexer": "ipython3",
   "version": "3.8.8"
  }
 },
 "nbformat": 4,
 "nbformat_minor": 5
}
